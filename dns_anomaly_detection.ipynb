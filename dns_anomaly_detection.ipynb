{
 "cells": [
  {
   "cell_type": "code",
   "execution_count": 1,
   "id": "219bdb96",
   "metadata": {},
   "outputs": [],
   "source": [
    "import pandas as pd\n",
    "from sklearn.preprocessing import LabelEncoder\n",
    "from sklearn.model_selection import train_test_split\n",
    "from sklearn.ensemble import RandomForestClassifier\n",
    "from sklearn.metrics import accuracy_score, classification_report, confusion_matrix\n",
    "from imblearn.over_sampling import SMOTE\n",
    "import matplotlib.pyplot as plt\n",
    "import seaborn as sns\n",
    "import warnings\n",
    "warnings.filterwarnings(\"ignore\")"
   ]
  },
  {
   "cell_type": "markdown",
   "id": "6668b22d",
   "metadata": {},
   "source": [
    "# Loading Data"
   ]
  },
  {
   "cell_type": "code",
   "execution_count": 2,
   "id": "b1a85dd0",
   "metadata": {},
   "outputs": [
    {
     "data": {
      "text/html": [
       "<div>\n",
       "<style scoped>\n",
       "    .dataframe tbody tr th:only-of-type {\n",
       "        vertical-align: middle;\n",
       "    }\n",
       "\n",
       "    .dataframe tbody tr th {\n",
       "        vertical-align: top;\n",
       "    }\n",
       "\n",
       "    .dataframe thead th {\n",
       "        text-align: right;\n",
       "    }\n",
       "</style>\n",
       "<table border=\"1\" class=\"dataframe\">\n",
       "  <thead>\n",
       "    <tr style=\"text-align: right;\">\n",
       "      <th></th>\n",
       "      <th>Timestamp</th>\n",
       "      <th>Query Volume</th>\n",
       "      <th>Query Rate</th>\n",
       "      <th>Query Type</th>\n",
       "      <th>Query Domain</th>\n",
       "      <th>Response Time</th>\n",
       "      <th>TTL Value</th>\n",
       "      <th>Source IP Address</th>\n",
       "      <th>Destination IP Address</th>\n",
       "      <th>Transaction ID</th>\n",
       "      <th>Query Size</th>\n",
       "      <th>Response Size</th>\n",
       "      <th>Entropy of Transaction ID</th>\n",
       "      <th>Frequency of Query Domain</th>\n",
       "      <th>Geolocation of Source IP</th>\n",
       "      <th>Anomaly Label</th>\n",
       "    </tr>\n",
       "  </thead>\n",
       "  <tbody>\n",
       "    <tr>\n",
       "      <th>0</th>\n",
       "      <td>2024-12-10 13:00:00</td>\n",
       "      <td>61</td>\n",
       "      <td>2.87</td>\n",
       "      <td>MX</td>\n",
       "      <td>example.com</td>\n",
       "      <td>0.02</td>\n",
       "      <td>168</td>\n",
       "      <td>192.168.104.92</td>\n",
       "      <td>10.0.112.76</td>\n",
       "      <td>12256</td>\n",
       "      <td>45</td>\n",
       "      <td>391</td>\n",
       "      <td>0.53</td>\n",
       "      <td>83</td>\n",
       "      <td>AU</td>\n",
       "      <td>0</td>\n",
       "    </tr>\n",
       "    <tr>\n",
       "      <th>1</th>\n",
       "      <td>2024-12-10 13:01:00</td>\n",
       "      <td>299</td>\n",
       "      <td>1.06</td>\n",
       "      <td>CNAME</td>\n",
       "      <td>example.com</td>\n",
       "      <td>0.05</td>\n",
       "      <td>400</td>\n",
       "      <td>192.168.110.239</td>\n",
       "      <td>10.0.176.90</td>\n",
       "      <td>54176</td>\n",
       "      <td>24</td>\n",
       "      <td>494</td>\n",
       "      <td>0.69</td>\n",
       "      <td>85</td>\n",
       "      <td>DE</td>\n",
       "      <td>0</td>\n",
       "    </tr>\n",
       "    <tr>\n",
       "      <th>2</th>\n",
       "      <td>2024-12-10 13:02:00</td>\n",
       "      <td>108</td>\n",
       "      <td>4.33</td>\n",
       "      <td>AAAA</td>\n",
       "      <td>example.com</td>\n",
       "      <td>0.04</td>\n",
       "      <td>147</td>\n",
       "      <td>192.168.126.50</td>\n",
       "      <td>10.0.220.134</td>\n",
       "      <td>44551</td>\n",
       "      <td>45</td>\n",
       "      <td>214</td>\n",
       "      <td>0.57</td>\n",
       "      <td>6</td>\n",
       "      <td>DE</td>\n",
       "      <td>0</td>\n",
       "    </tr>\n",
       "    <tr>\n",
       "      <th>3</th>\n",
       "      <td>2024-12-10 13:03:00</td>\n",
       "      <td>163</td>\n",
       "      <td>4.94</td>\n",
       "      <td>NS</td>\n",
       "      <td>domain.edu</td>\n",
       "      <td>0.10</td>\n",
       "      <td>133</td>\n",
       "      <td>192.168.59.241</td>\n",
       "      <td>10.0.221.6</td>\n",
       "      <td>25680</td>\n",
       "      <td>21</td>\n",
       "      <td>294</td>\n",
       "      <td>0.65</td>\n",
       "      <td>69</td>\n",
       "      <td>US</td>\n",
       "      <td>0</td>\n",
       "    </tr>\n",
       "    <tr>\n",
       "      <th>4</th>\n",
       "      <td>2024-12-10 13:04:00</td>\n",
       "      <td>161</td>\n",
       "      <td>4.52</td>\n",
       "      <td>AAAA</td>\n",
       "      <td>sample.net</td>\n",
       "      <td>0.09</td>\n",
       "      <td>325</td>\n",
       "      <td>192.168.108.95</td>\n",
       "      <td>10.0.23.3</td>\n",
       "      <td>12610</td>\n",
       "      <td>41</td>\n",
       "      <td>288</td>\n",
       "      <td>0.85</td>\n",
       "      <td>59</td>\n",
       "      <td>AU</td>\n",
       "      <td>0</td>\n",
       "    </tr>\n",
       "  </tbody>\n",
       "</table>\n",
       "</div>"
      ],
      "text/plain": [
       "             Timestamp  Query Volume  Query Rate Query Type Query Domain  \\\n",
       "0  2024-12-10 13:00:00            61        2.87         MX  example.com   \n",
       "1  2024-12-10 13:01:00           299        1.06      CNAME  example.com   \n",
       "2  2024-12-10 13:02:00           108        4.33       AAAA  example.com   \n",
       "3  2024-12-10 13:03:00           163        4.94         NS   domain.edu   \n",
       "4  2024-12-10 13:04:00           161        4.52       AAAA   sample.net   \n",
       "\n",
       "   Response Time  TTL Value Source IP Address Destination IP Address  \\\n",
       "0           0.02        168    192.168.104.92            10.0.112.76   \n",
       "1           0.05        400   192.168.110.239            10.0.176.90   \n",
       "2           0.04        147    192.168.126.50           10.0.220.134   \n",
       "3           0.10        133    192.168.59.241             10.0.221.6   \n",
       "4           0.09        325    192.168.108.95              10.0.23.3   \n",
       "\n",
       "   Transaction ID  Query Size  Response Size  Entropy of Transaction ID  \\\n",
       "0           12256          45            391                       0.53   \n",
       "1           54176          24            494                       0.69   \n",
       "2           44551          45            214                       0.57   \n",
       "3           25680          21            294                       0.65   \n",
       "4           12610          41            288                       0.85   \n",
       "\n",
       "   Frequency of Query Domain Geolocation of Source IP  Anomaly Label  \n",
       "0                         83                       AU              0  \n",
       "1                         85                       DE              0  \n",
       "2                          6                       DE              0  \n",
       "3                         69                       US              0  \n",
       "4                         59                       AU              0  "
      ]
     },
     "execution_count": 2,
     "metadata": {},
     "output_type": "execute_result"
    }
   ],
   "source": [
    "df = pd.read_csv('synthetic_dns_traffic_data.csv')\n",
    "df.head()"
   ]
  },
  {
   "cell_type": "markdown",
   "id": "a3171884",
   "metadata": {},
   "source": [
    "# Exploring Data"
   ]
  },
  {
   "cell_type": "code",
   "execution_count": 3,
   "id": "6fc8a660",
   "metadata": {},
   "outputs": [
    {
     "data": {
      "text/html": [
       "<div>\n",
       "<style scoped>\n",
       "    .dataframe tbody tr th:only-of-type {\n",
       "        vertical-align: middle;\n",
       "    }\n",
       "\n",
       "    .dataframe tbody tr th {\n",
       "        vertical-align: top;\n",
       "    }\n",
       "\n",
       "    .dataframe thead th {\n",
       "        text-align: right;\n",
       "    }\n",
       "</style>\n",
       "<table border=\"1\" class=\"dataframe\">\n",
       "  <thead>\n",
       "    <tr style=\"text-align: right;\">\n",
       "      <th></th>\n",
       "      <th>Query Volume</th>\n",
       "      <th>Query Rate</th>\n",
       "      <th>Response Time</th>\n",
       "      <th>TTL Value</th>\n",
       "      <th>Transaction ID</th>\n",
       "      <th>Query Size</th>\n",
       "      <th>Response Size</th>\n",
       "      <th>Entropy of Transaction ID</th>\n",
       "      <th>Frequency of Query Domain</th>\n",
       "      <th>Anomaly Label</th>\n",
       "    </tr>\n",
       "  </thead>\n",
       "  <tbody>\n",
       "    <tr>\n",
       "      <th>count</th>\n",
       "      <td>10000.000000</td>\n",
       "      <td>10000.000000</td>\n",
       "      <td>10000.000000</td>\n",
       "      <td>10000.000000</td>\n",
       "      <td>10000.000000</td>\n",
       "      <td>10000.000000</td>\n",
       "      <td>10000.000000</td>\n",
       "      <td>10000.000000</td>\n",
       "      <td>10000.000000</td>\n",
       "      <td>10000.000000</td>\n",
       "    </tr>\n",
       "    <tr>\n",
       "      <th>mean</th>\n",
       "      <td>174.919000</td>\n",
       "      <td>2.533244</td>\n",
       "      <td>0.054534</td>\n",
       "      <td>350.167400</td>\n",
       "      <td>54806.978200</td>\n",
       "      <td>35.032800</td>\n",
       "      <td>302.545100</td>\n",
       "      <td>0.748134</td>\n",
       "      <td>50.646500</td>\n",
       "      <td>0.100300</td>\n",
       "    </tr>\n",
       "    <tr>\n",
       "      <th>std</th>\n",
       "      <td>72.129289</td>\n",
       "      <td>1.406748</td>\n",
       "      <td>0.026387</td>\n",
       "      <td>144.788463</td>\n",
       "      <td>25893.498043</td>\n",
       "      <td>8.888657</td>\n",
       "      <td>115.309259</td>\n",
       "      <td>0.144581</td>\n",
       "      <td>28.890898</td>\n",
       "      <td>0.300415</td>\n",
       "    </tr>\n",
       "    <tr>\n",
       "      <th>min</th>\n",
       "      <td>50.000000</td>\n",
       "      <td>0.100000</td>\n",
       "      <td>0.010000</td>\n",
       "      <td>100.000000</td>\n",
       "      <td>10007.000000</td>\n",
       "      <td>20.000000</td>\n",
       "      <td>100.000000</td>\n",
       "      <td>0.500000</td>\n",
       "      <td>1.000000</td>\n",
       "      <td>0.000000</td>\n",
       "    </tr>\n",
       "    <tr>\n",
       "      <th>25%</th>\n",
       "      <td>113.000000</td>\n",
       "      <td>1.320000</td>\n",
       "      <td>0.030000</td>\n",
       "      <td>225.000000</td>\n",
       "      <td>32452.500000</td>\n",
       "      <td>27.000000</td>\n",
       "      <td>203.000000</td>\n",
       "      <td>0.620000</td>\n",
       "      <td>26.000000</td>\n",
       "      <td>0.000000</td>\n",
       "    </tr>\n",
       "    <tr>\n",
       "      <th>50%</th>\n",
       "      <td>173.000000</td>\n",
       "      <td>2.500000</td>\n",
       "      <td>0.050000</td>\n",
       "      <td>350.000000</td>\n",
       "      <td>54750.500000</td>\n",
       "      <td>35.000000</td>\n",
       "      <td>303.000000</td>\n",
       "      <td>0.750000</td>\n",
       "      <td>51.000000</td>\n",
       "      <td>0.000000</td>\n",
       "    </tr>\n",
       "    <tr>\n",
       "      <th>75%</th>\n",
       "      <td>237.000000</td>\n",
       "      <td>3.740000</td>\n",
       "      <td>0.080000</td>\n",
       "      <td>475.000000</td>\n",
       "      <td>77028.750000</td>\n",
       "      <td>43.000000</td>\n",
       "      <td>402.000000</td>\n",
       "      <td>0.870000</td>\n",
       "      <td>75.000000</td>\n",
       "      <td>0.000000</td>\n",
       "    </tr>\n",
       "    <tr>\n",
       "      <th>max</th>\n",
       "      <td>300.000000</td>\n",
       "      <td>5.000000</td>\n",
       "      <td>0.100000</td>\n",
       "      <td>600.000000</td>\n",
       "      <td>99999.000000</td>\n",
       "      <td>50.000000</td>\n",
       "      <td>500.000000</td>\n",
       "      <td>1.000000</td>\n",
       "      <td>100.000000</td>\n",
       "      <td>1.000000</td>\n",
       "    </tr>\n",
       "  </tbody>\n",
       "</table>\n",
       "</div>"
      ],
      "text/plain": [
       "       Query Volume    Query Rate  Response Time     TTL Value  \\\n",
       "count  10000.000000  10000.000000   10000.000000  10000.000000   \n",
       "mean     174.919000      2.533244       0.054534    350.167400   \n",
       "std       72.129289      1.406748       0.026387    144.788463   \n",
       "min       50.000000      0.100000       0.010000    100.000000   \n",
       "25%      113.000000      1.320000       0.030000    225.000000   \n",
       "50%      173.000000      2.500000       0.050000    350.000000   \n",
       "75%      237.000000      3.740000       0.080000    475.000000   \n",
       "max      300.000000      5.000000       0.100000    600.000000   \n",
       "\n",
       "       Transaction ID    Query Size  Response Size  Entropy of Transaction ID  \\\n",
       "count    10000.000000  10000.000000   10000.000000               10000.000000   \n",
       "mean     54806.978200     35.032800     302.545100                   0.748134   \n",
       "std      25893.498043      8.888657     115.309259                   0.144581   \n",
       "min      10007.000000     20.000000     100.000000                   0.500000   \n",
       "25%      32452.500000     27.000000     203.000000                   0.620000   \n",
       "50%      54750.500000     35.000000     303.000000                   0.750000   \n",
       "75%      77028.750000     43.000000     402.000000                   0.870000   \n",
       "max      99999.000000     50.000000     500.000000                   1.000000   \n",
       "\n",
       "       Frequency of Query Domain  Anomaly Label  \n",
       "count               10000.000000   10000.000000  \n",
       "mean                   50.646500       0.100300  \n",
       "std                    28.890898       0.300415  \n",
       "min                     1.000000       0.000000  \n",
       "25%                    26.000000       0.000000  \n",
       "50%                    51.000000       0.000000  \n",
       "75%                    75.000000       0.000000  \n",
       "max                   100.000000       1.000000  "
      ]
     },
     "execution_count": 3,
     "metadata": {},
     "output_type": "execute_result"
    }
   ],
   "source": [
    "df.describe()"
   ]
  },
  {
   "cell_type": "code",
   "execution_count": 4,
   "id": "31ba5b1f",
   "metadata": {},
   "outputs": [
    {
     "name": "stdout",
     "output_type": "stream",
     "text": [
      "(10000, 16)\n"
     ]
    },
    {
     "data": {
      "text/plain": [
       "Index(['Timestamp', 'Query Volume', 'Query Rate', 'Query Type', 'Query Domain',\n",
       "       'Response Time', 'TTL Value', 'Source IP Address',\n",
       "       'Destination IP Address', 'Transaction ID', 'Query Size',\n",
       "       'Response Size', 'Entropy of Transaction ID',\n",
       "       'Frequency of Query Domain', 'Geolocation of Source IP',\n",
       "       'Anomaly Label'],\n",
       "      dtype='object')"
      ]
     },
     "execution_count": 4,
     "metadata": {},
     "output_type": "execute_result"
    }
   ],
   "source": [
    "print(df.shape)\n",
    "df.columns"
   ]
  },
  {
   "cell_type": "markdown",
   "id": "1162d2e5",
   "metadata": {},
   "source": [
    "Checking null values"
   ]
  },
  {
   "cell_type": "code",
   "execution_count": 5,
   "id": "eb16ed3f",
   "metadata": {},
   "outputs": [
    {
     "data": {
      "text/plain": [
       "np.int64(0)"
      ]
     },
     "execution_count": 5,
     "metadata": {},
     "output_type": "execute_result"
    }
   ],
   "source": [
    "df.isnull().sum().max()"
   ]
  },
  {
   "cell_type": "markdown",
   "id": "96bd877c",
   "metadata": {},
   "source": [
    "class imbalance"
   ]
  },
  {
   "cell_type": "code",
   "execution_count": 6,
   "id": "f53d7236",
   "metadata": {},
   "outputs": [
    {
     "data": {
      "text/plain": [
       "Text(0.5, 1.0, 'Class Distributions \\n (0: Normal || 1: Anomaly)')"
      ]
     },
     "execution_count": 6,
     "metadata": {},
     "output_type": "execute_result"
    },
    {
     "data": {
      "image/png": "[encoded data removed]",
      "text/plain": [
       "<Figure size 640x480 with 1 Axes>"
      ]
     },
     "metadata": {},
     "output_type": "display_data"
    }
   ],
   "source": [
    "import seaborn as sns\n",
    "import matplotlib.pyplot as plt\n",
    "\n",
    "colors = [\"#28ff7a\", \"#ff0000\"]\n",
    "\n",
    "sns.countplot(x='Anomaly Label', data=df, palette=colors)\n",
    "plt.title('Class Distributions \\n (0: Normal || 1: Anomaly)', fontsize=10)"
   ]
  },
  {
   "cell_type": "markdown",
   "id": "a37e4236",
   "metadata": {},
   "source": [
    "# Data Transformation"
   ]
  },
  {
   "cell_type": "code",
   "execution_count": 7,
   "id": "05ed60b7",
   "metadata": {},
   "outputs": [
    {
     "data": {
      "text/plain": [
       "Timestamp                     object\n",
       "Query Volume                   int64\n",
       "Query Rate                   float64\n",
       "Query Type                    object\n",
       "Query Domain                  object\n",
       "Response Time                float64\n",
       "TTL Value                      int64\n",
       "Source IP Address             object\n",
       "Destination IP Address        object\n",
       "Transaction ID                 int64\n",
       "Query Size                     int64\n",
       "Response Size                  int64\n",
       "Entropy of Transaction ID    float64\n",
       "Frequency of Query Domain      int64\n",
       "Geolocation of Source IP      object\n",
       "Anomaly Label                  int64\n",
       "dtype: object"
      ]
     },
     "execution_count": 7,
     "metadata": {},
     "output_type": "execute_result"
    }
   ],
   "source": [
    "df.dtypes"
   ]
  },
  {
   "cell_type": "markdown",
   "id": "18a78c40",
   "metadata": {},
   "source": [
    "Encoding categorical features"
   ]
  },
  {
   "cell_type": "code",
   "execution_count": 8,
   "id": "94321af7",
   "metadata": {},
   "outputs": [
    {
     "data": {
      "text/html": [
       "<div>\n",
       "<style scoped>\n",
       "    .dataframe tbody tr th:only-of-type {\n",
       "        vertical-align: middle;\n",
       "    }\n",
       "\n",
       "    .dataframe tbody tr th {\n",
       "        vertical-align: top;\n",
       "    }\n",
       "\n",
       "    .dataframe thead th {\n",
       "        text-align: right;\n",
       "    }\n",
       "</style>\n",
       "<table border=\"1\" class=\"dataframe\">\n",
       "  <thead>\n",
       "    <tr style=\"text-align: right;\">\n",
       "      <th></th>\n",
       "      <th>Timestamp</th>\n",
       "      <th>Query Volume</th>\n",
       "      <th>Query Rate</th>\n",
       "      <th>Query Type</th>\n",
       "      <th>Query Domain</th>\n",
       "      <th>Response Time</th>\n",
       "      <th>TTL Value</th>\n",
       "      <th>Source IP Address</th>\n",
       "      <th>Destination IP Address</th>\n",
       "      <th>Transaction ID</th>\n",
       "      <th>Query Size</th>\n",
       "      <th>Response Size</th>\n",
       "      <th>Entropy of Transaction ID</th>\n",
       "      <th>Frequency of Query Domain</th>\n",
       "      <th>Geolocation of Source IP</th>\n",
       "      <th>Anomaly Label</th>\n",
       "    </tr>\n",
       "  </thead>\n",
       "  <tbody>\n",
       "    <tr>\n",
       "      <th>0</th>\n",
       "      <td>2024-12-10 13:00:00</td>\n",
       "      <td>61</td>\n",
       "      <td>2.87</td>\n",
       "      <td>3</td>\n",
       "      <td>1</td>\n",
       "      <td>0.02</td>\n",
       "      <td>168</td>\n",
       "      <td>299</td>\n",
       "      <td>600</td>\n",
       "      <td>12256</td>\n",
       "      <td>45</td>\n",
       "      <td>391</td>\n",
       "      <td>0.53</td>\n",
       "      <td>83</td>\n",
       "      <td>0</td>\n",
       "      <td>0</td>\n",
       "    </tr>\n",
       "    <tr>\n",
       "      <th>1</th>\n",
       "      <td>2024-12-10 13:01:00</td>\n",
       "      <td>299</td>\n",
       "      <td>1.06</td>\n",
       "      <td>2</td>\n",
       "      <td>1</td>\n",
       "      <td>0.05</td>\n",
       "      <td>400</td>\n",
       "      <td>507</td>\n",
       "      <td>3110</td>\n",
       "      <td>54176</td>\n",
       "      <td>24</td>\n",
       "      <td>494</td>\n",
       "      <td>0.69</td>\n",
       "      <td>85</td>\n",
       "      <td>2</td>\n",
       "      <td>0</td>\n",
       "    </tr>\n",
       "    <tr>\n",
       "      <th>2</th>\n",
       "      <td>2024-12-10 13:02:00</td>\n",
       "      <td>108</td>\n",
       "      <td>4.33</td>\n",
       "      <td>1</td>\n",
       "      <td>1</td>\n",
       "      <td>0.04</td>\n",
       "      <td>147</td>\n",
       "      <td>1123</td>\n",
       "      <td>4921</td>\n",
       "      <td>44551</td>\n",
       "      <td>45</td>\n",
       "      <td>214</td>\n",
       "      <td>0.57</td>\n",
       "      <td>6</td>\n",
       "      <td>2</td>\n",
       "      <td>0</td>\n",
       "    </tr>\n",
       "    <tr>\n",
       "      <th>3</th>\n",
       "      <td>2024-12-10 13:03:00</td>\n",
       "      <td>163</td>\n",
       "      <td>4.94</td>\n",
       "      <td>4</td>\n",
       "      <td>0</td>\n",
       "      <td>0.10</td>\n",
       "      <td>133</td>\n",
       "      <td>7655</td>\n",
       "      <td>4985</td>\n",
       "      <td>25680</td>\n",
       "      <td>21</td>\n",
       "      <td>294</td>\n",
       "      <td>0.65</td>\n",
       "      <td>69</td>\n",
       "      <td>4</td>\n",
       "      <td>0</td>\n",
       "    </tr>\n",
       "    <tr>\n",
       "      <th>4</th>\n",
       "      <td>2024-12-10 13:04:00</td>\n",
       "      <td>161</td>\n",
       "      <td>4.52</td>\n",
       "      <td>1</td>\n",
       "      <td>2</td>\n",
       "      <td>0.09</td>\n",
       "      <td>325</td>\n",
       "      <td>424</td>\n",
       "      <td>5320</td>\n",
       "      <td>12610</td>\n",
       "      <td>41</td>\n",
       "      <td>288</td>\n",
       "      <td>0.85</td>\n",
       "      <td>59</td>\n",
       "      <td>0</td>\n",
       "      <td>0</td>\n",
       "    </tr>\n",
       "  </tbody>\n",
       "</table>\n",
       "</div>"
      ],
      "text/plain": [
       "             Timestamp  Query Volume  Query Rate  Query Type  Query Domain  \\\n",
       "0  2024-12-10 13:00:00            61        2.87           3             1   \n",
       "1  2024-12-10 13:01:00           299        1.06           2             1   \n",
       "2  2024-12-10 13:02:00           108        4.33           1             1   \n",
       "3  2024-12-10 13:03:00           163        4.94           4             0   \n",
       "4  2024-12-10 13:04:00           161        4.52           1             2   \n",
       "\n",
       "   Response Time  TTL Value  Source IP Address  Destination IP Address  \\\n",
       "0           0.02        168                299                     600   \n",
       "1           0.05        400                507                    3110   \n",
       "2           0.04        147               1123                    4921   \n",
       "3           0.10        133               7655                    4985   \n",
       "4           0.09        325                424                    5320   \n",
       "\n",
       "   Transaction ID  Query Size  Response Size  Entropy of Transaction ID  \\\n",
       "0           12256          45            391                       0.53   \n",
       "1           54176          24            494                       0.69   \n",
       "2           44551          45            214                       0.57   \n",
       "3           25680          21            294                       0.65   \n",
       "4           12610          41            288                       0.85   \n",
       "\n",
       "   Frequency of Query Domain  Geolocation of Source IP  Anomaly Label  \n",
       "0                         83                         0              0  \n",
       "1                         85                         2              0  \n",
       "2                          6                         2              0  \n",
       "3                         69                         4              0  \n",
       "4                         59                         0              0  "
      ]
     },
     "execution_count": 8,
     "metadata": {},
     "output_type": "execute_result"
    }
   ],
   "source": [
    "from sklearn.preprocessing import LabelEncoder\n",
    "\n",
    "label_encoder = LabelEncoder()\n",
    "df['Query Type'] = label_encoder.fit_transform(df['Query Type'])\n",
    "df['Query Domain'] = label_encoder.fit_transform(df['Query Domain'])\n",
    "df['Source IP Address'] = label_encoder.fit_transform(df['Source IP Address'])\n",
    "df['Destination IP Address'] = label_encoder.fit_transform(df['Destination IP Address'])\n",
    "df['Geolocation of Source IP'] = label_encoder.fit_transform(df['Geolocation of Source IP'])\n",
    "df.head()"
   ]
  },
  {
   "cell_type": "markdown",
   "id": "08c147a6",
   "metadata": {},
   "source": [
    "split features and Target class"
   ]
  },
  {
   "cell_type": "code",
   "execution_count": 9,
   "id": "80ca982b",
   "metadata": {},
   "outputs": [],
   "source": [
    "features = df.drop(columns=['Timestamp', 'Anomaly Label'])\n",
    "target = df['Anomaly Label']"
   ]
  },
  {
   "cell_type": "markdown",
   "id": "f8239380",
   "metadata": {},
   "source": [
    "# Data balancing"
   ]
  },
  {
   "cell_type": "code",
   "execution_count": 10,
   "id": "2d48df5b",
   "metadata": {},
   "outputs": [],
   "source": [
    "from imblearn.over_sampling import SMOTE\n",
    "\n",
    "smote = SMOTE(random_state=42)\n",
    "X_resampled, y_resampled = smote.fit_resample(features, target)"
   ]
  },
  {
   "cell_type": "code",
   "execution_count": 11,
   "id": "1a4901d1",
   "metadata": {},
   "outputs": [
    {
     "data": {
      "image/png": "[encoded data removed]",
      "text/plain": [
       "<Figure size 640x480 with 1 Axes>"
      ]
     },
     "metadata": {},
     "output_type": "display_data"
    }
   ],
   "source": [
    "sns.countplot(x=y_resampled)\n",
    "plt.title('Class Distribution After SMOTE')\n",
    "plt.xlabel('ِAnomaly label')\n",
    "plt.ylabel('Count')\n",
    "plt.show()"
   ]
  },
  {
   "cell_type": "markdown",
   "id": "78a01e9a",
   "metadata": {},
   "source": [
    "Data split for training & testing"
   ]
  },
  {
   "cell_type": "code",
   "execution_count": 12,
   "id": "408ff7d1",
   "metadata": {},
   "outputs": [],
   "source": [
    "X_train, X_test, y_train, y_test = train_test_split(X_resampled, y_resampled, test_size=0.2, random_state=42)"
   ]
  },
  {
   "cell_type": "markdown",
   "id": "cc205b05",
   "metadata": {},
   "source": [
    "# Train model"
   ]
  },
  {
   "cell_type": "code",
   "execution_count": 13,
   "id": "4373e756",
   "metadata": {
    "scrolled": false
   },
   "outputs": [
    {
     "name": "stdout",
     "output_type": "stream",
     "text": [
      "Random Forest Classifier\n",
      "Accuracy: 0.8971936649069185\n",
      "Classification Report:\n",
      "              precision    recall  f1-score   support\n",
      "\n",
      "           0       0.88      0.93      0.90      1795\n",
      "           1       0.92      0.87      0.89      1804\n",
      "\n",
      "    accuracy                           0.90      3599\n",
      "   macro avg       0.90      0.90      0.90      3599\n",
      "weighted avg       0.90      0.90      0.90      3599\n",
      "\n"
     ]
    },
    {
     "data": {
      "image/png": "[encoded data removed]",
      "text/plain": [
       "<Figure size 600x600 with 2 Axes>"
      ]
     },
     "metadata": {},
     "output_type": "display_data"
    }
   ],
   "source": [
    "model = RandomForestClassifier(n_estimators=100, random_state=42)\n",
    "\n",
    "model.fit(X_train, y_train)\n",
    "y_pred = model.predict(X_test)\n",
    "accuracy = accuracy_score(y_test, y_pred)\n",
    "report = classification_report(y_test, y_pred)\n",
    "confusion = confusion_matrix(y_test, y_pred)\n",
    "\n",
    "print(\"Random Forest Classifier\")\n",
    "print(f\"Accuracy: {accuracy}\")\n",
    "print(\"Classification Report:\")\n",
    "print(report)\n",
    "\n",
    "# Plot confusion matrix\n",
    "plt.figure(figsize=(6, 6))\n",
    "sns.heatmap(confusion, annot=True, cmap='coolwarm', fmt='d')\n",
    "plt.title('Confusion Matrix for \"Random Forest Classifier\"')\n",
    "plt.xlabel('Predicted Label')\n",
    "plt.ylabel('True Label')\n",
    "plt.show()\n",
    "\n",
    "results = {\n",
    "    \"accuracy\": accuracy,\n",
    "    \"classification_report\": report,\n",
    "    \"confusion_matrix\": confusion\n",
    "}"
   ]
  }
 ],
 "metadata": {
  "kernelspec": {
   "display_name": "myenv",
   "language": "python",
   "name": "python3"
  },
  "language_info": {
   "codemirror_mode": {
    "name": "ipython",
    "version": 3
   },
   "file_extension": ".py",
   "mimetype": "text/x-python",
   "name": "python",
   "nbconvert_exporter": "python",
   "pygments_lexer": "ipython3",
   "version": "3.13.3"
  }
 },
 "nbformat": 4,
 "nbformat_minor": 5
}
